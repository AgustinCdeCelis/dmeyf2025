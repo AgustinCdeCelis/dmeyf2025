{
  "cells": [
    {
      "cell_type": "markdown",
      "metadata": {
        "id": "O94qX1svwzoC"
      },
      "source": [
        "# Random Forest para clustering jerárquico"
      ]
    },
    {
      "cell_type": "markdown",
      "metadata": {
        "id": "XGh-slmfu_FO"
      },
      "source": [
        "Como se explicó en la clase, el algoritmo desarrollado por Leo Breiman permite su utilización para clustering; utilzando la distancia generada por la recurrencia de los casos en las hojas de cada uno de los árboles el ensamble.\n",
        "\n",
        "Aquí se dará un pequeño tutorial utilizando la librería randomForest() de R."
      ]
    },
    {
      "cell_type": "markdown",
      "metadata": {
        "id": "PX0qg_c0yqob"
      },
      "source": [
        "## 1  Seteo del ambiente en Google Colab"
      ]
    },
    {
      "cell_type": "markdown",
      "metadata": {
        "id": "NGY7H9xza7Zr"
      },
      "source": [
        "Esta parte se debe correr con el runtime en Python3\n",
        "<br>Ir al menu, Runtime -> Change Runtime Type -> Runtime type ->  **Python 3**"
      ]
    },
    {
      "cell_type": "markdown",
      "metadata": {
        "id": "7PupIBNba7Zr"
      },
      "source": [
        "Conectar la virtual machine donde esta corriendo Google Colab con el  Google Drive, para poder tener persistencia de archivos"
      ]
    },
    {
      "cell_type": "code",
      "execution_count": 1,
      "metadata": {
        "colab": {
          "base_uri": "https://localhost:8080/"
        },
        "id": "9LpZCst5a7Zs",
        "outputId": "9611933d-6c89-40eb-c51c-f2bac4150c3b",
        "vscode": {
          "languageId": "r"
        }
      },
      "outputs": [
        {
          "name": "stdout",
          "output_type": "stream",
          "text": [
            "Drive already mounted at /content/.drive; to attempt to forcibly remount, call drive.mount(\"/content/.drive\", force_remount=True).\n"
          ]
        }
      ],
      "source": [
        "# primero establecer el Runtime de Python 3\n",
        "from google.colab import drive\n",
        "drive.mount('/content/.drive')"
      ]
    },
    {
      "cell_type": "markdown",
      "metadata": {
        "id": "JYC_F-wla7Zs"
      },
      "source": [
        "<br>los siguientes comando estan en shell script de Linux\n",
        "*   Crear las carpetas en el Google Drive\n",
        "*   Bajar el  **competencia_01_crudo**  al  Google Drive  y tambien al disco local de la virtual machine que esta corriendo Google Colab"
      ]
    },
    {
      "cell_type": "code",
      "execution_count": 2,
      "metadata": {
        "colab": {
          "base_uri": "https://localhost:8080/"
        },
        "id": "XWLelftXa7Zt",
        "outputId": "f4d4f327-f7e5-48a0-981f-2965ee043472",
        "vscode": {
          "languageId": "r"
        }
      },
      "outputs": [
        {
          "name": "stdout",
          "output_type": "stream",
          "text": [
            "ln: failed to create symbolic link '/content/buckets/b1/dmeyf': File exists\n"
          ]
        },
        {
          "data": {
            "text/plain": []
          },
          "execution_count": 2,
          "metadata": {},
          "output_type": "execute_result"
        }
      ],
      "source": [
        "%%shell\n",
        "\n",
        "mkdir -p \"/content/.drive/My Drive/dmeyf\"\n",
        "mkdir -p \"/content/buckets\"\n",
        "ln -s \"/content/.drive/My Drive/dmeyf\" /content/buckets/b1\n",
        "\n",
        "\n",
        "mkdir -p /content/buckets/b1/exp\n",
        "mkdir -p /content/buckets/b1/datasets\n",
        "mkdir -p /content/datasets\n",
        "\n",
        "\n",
        "\n",
        "archivo_origen=\"https://storage.googleapis.com/open-courses/dmeyf2025-e4a2/competencia_01_crudo.csv\"\n",
        "archivo_destino=\"/content/datasets/competencia_01_crudo.csv\"\n",
        "archivo_destino_bucket=\"/content/buckets/b1/datasets/competencia_01_crudo.csv\"\n",
        "\n",
        "if ! test -f $archivo_destino_bucket; then\n",
        "  wget  $archivo_origen  -O $archivo_destino_bucket\n",
        "fi\n",
        "\n",
        "\n",
        "if ! test -f $archivo_destino; then\n",
        "  cp  $archivo_destino_bucket  $archivo_destino\n",
        "fi\n"
      ]
    },
    {
      "cell_type": "markdown",
      "metadata": {
        "id": "dseB4qb9RqUb"
      },
      "source": [
        "## 2. Generacion de la clase_ternaria"
      ]
    },
    {
      "cell_type": "markdown",
      "metadata": {
        "id": "LCEnE_02RuIQ"
      },
      "source": [
        "Esta parte se debe correr con el runtime en lenguaje **R** Ir al menu, Runtime -> Change Runtime Tipe -> Runtime type -> R"
      ]
    },
    {
      "cell_type": "code",
      "execution_count": 1,
      "metadata": {
        "colab": {
          "base_uri": "https://localhost:8080/"
        },
        "id": "P863YZB9R1Ua",
        "outputId": "7192ffeb-9ef5-42ed-f76a-20ad1b0b6bb0",
        "vscode": {
          "languageId": "r"
        }
      },
      "outputs": [
        {
          "name": "stderr",
          "output_type": "stream",
          "text": [
            "Loading required package: data.table\n",
            "\n"
          ]
        }
      ],
      "source": [
        "require( \"data.table\" )\n",
        "\n",
        "# leo el dataset\n",
        "dataset <- fread(\"/content/datasets/competencia_01_crudo.csv\" )\n",
        "\n",
        "# calculo el periodo0 consecutivo\n",
        "dsimple <- dataset[, list(\n",
        "    \"pos\" = .I,\n",
        "    numero_de_cliente,\n",
        "    periodo0 = as.integer(foto_mes/100)*12 +  foto_mes%%100 ) ]\n",
        "\n",
        "\n",
        "# ordeno\n",
        "setorder( dsimple, numero_de_cliente, periodo0 )\n",
        "\n",
        "# calculo topes\n",
        "periodo_ultimo <- dsimple[, max(periodo0) ]\n",
        "periodo_anteultimo <- periodo_ultimo - 1\n",
        "\n",
        "\n",
        "# calculo los leads de orden 1 y 2\n",
        "dsimple[, c(\"periodo1\", \"periodo2\") :=\n",
        "    shift(periodo0, n=1:2, fill=NA, type=\"lead\"),  numero_de_cliente ]\n",
        "\n",
        "# assign most common class values = \"CONTINUA\"\n",
        "dsimple[ periodo0 < periodo_anteultimo, clase_ternaria := \"CONTINUA\" ]\n",
        "\n",
        "# calculo BAJA+1\n",
        "dsimple[ periodo0 < periodo_ultimo &\n",
        "    ( is.na(periodo1) | periodo0 + 1 < periodo1 ),\n",
        "    clase_ternaria := \"BAJA+1\" ]\n",
        "\n",
        "# calculo BAJA+2\n",
        "dsimple[ periodo0 < periodo_anteultimo & (periodo0+1 == periodo1 )\n",
        "    & ( is.na(periodo2) | periodo0 + 2 < periodo2 ),\n",
        "    clase_ternaria := \"BAJA+2\" ]\n",
        "\n",
        "\n",
        "# pego el resultado en el dataset original y grabo\n",
        "setorder( dsimple, pos )\n",
        "dataset[, clase_ternaria := dsimple$clase_ternaria ]\n",
        "\n",
        "fwrite( dataset,\n",
        "    file =  \"/content/datasets/competencia_01.csv.gz\",\n",
        "    sep = \",\"\n",
        ")"
      ]
    },
    {
      "cell_type": "code",
      "execution_count": 2,
      "metadata": {
        "colab": {
          "base_uri": "https://localhost:8080/",
          "height": 569
        },
        "id": "S3hL7tv8W4rn",
        "outputId": "fdd46fa6-f1a9-42aa-eebb-1c76821ac81f",
        "vscode": {
          "languageId": "r"
        }
      },
      "outputs": [
        {
          "data": {
            "text/html": [
              "<table class=\"dataframe\">\n",
              "<caption>A data.table: 15 × 3</caption>\n",
              "<thead>\n",
              "\t<tr><th scope=col>foto_mes</th><th scope=col>clase_ternaria</th><th scope=col>N</th></tr>\n",
              "\t<tr><th scope=col>&lt;int&gt;</th><th scope=col>&lt;chr&gt;</th><th scope=col>&lt;int&gt;</th></tr>\n",
              "</thead>\n",
              "<tbody>\n",
              "\t<tr><td>202101</td><td>BAJA+1  </td><td>   622</td></tr>\n",
              "\t<tr><td>202101</td><td>BAJA+2  </td><td>   825</td></tr>\n",
              "\t<tr><td>202101</td><td>CONTINUA</td><td>160080</td></tr>\n",
              "\t<tr><td>202102</td><td>BAJA+1  </td><td>   831</td></tr>\n",
              "\t<tr><td>202102</td><td>BAJA+2  </td><td>  1032</td></tr>\n",
              "\t<tr><td>202102</td><td>CONTINUA</td><td>160292</td></tr>\n",
              "\t<tr><td>202103</td><td>BAJA+1  </td><td>  1039</td></tr>\n",
              "\t<tr><td>202103</td><td>BAJA+2  </td><td>   951</td></tr>\n",
              "\t<tr><td>202103</td><td>CONTINUA</td><td>161119</td></tr>\n",
              "\t<tr><td>202104</td><td>BAJA+1  </td><td>   955</td></tr>\n",
              "\t<tr><td>202104</td><td>BAJA+2  </td><td>  1130</td></tr>\n",
              "\t<tr><td>202104</td><td>CONTINUA</td><td>161333</td></tr>\n",
              "\t<tr><td>202105</td><td>NA      </td><td>162783</td></tr>\n",
              "\t<tr><td>202105</td><td>BAJA+1  </td><td>  1134</td></tr>\n",
              "\t<tr><td>202106</td><td>NA      </td><td>164313</td></tr>\n",
              "</tbody>\n",
              "</table>\n"
            ],
            "text/latex": [
              "A data.table: 15 × 3\n",
              "\\begin{tabular}{lll}\n",
              " foto\\_mes & clase\\_ternaria & N\\\\\n",
              " <int> & <chr> & <int>\\\\\n",
              "\\hline\n",
              "\t 202101 & BAJA+1   &    622\\\\\n",
              "\t 202101 & BAJA+2   &    825\\\\\n",
              "\t 202101 & CONTINUA & 160080\\\\\n",
              "\t 202102 & BAJA+1   &    831\\\\\n",
              "\t 202102 & BAJA+2   &   1032\\\\\n",
              "\t 202102 & CONTINUA & 160292\\\\\n",
              "\t 202103 & BAJA+1   &   1039\\\\\n",
              "\t 202103 & BAJA+2   &    951\\\\\n",
              "\t 202103 & CONTINUA & 161119\\\\\n",
              "\t 202104 & BAJA+1   &    955\\\\\n",
              "\t 202104 & BAJA+2   &   1130\\\\\n",
              "\t 202104 & CONTINUA & 161333\\\\\n",
              "\t 202105 & NA       & 162783\\\\\n",
              "\t 202105 & BAJA+1   &   1134\\\\\n",
              "\t 202106 & NA       & 164313\\\\\n",
              "\\end{tabular}\n"
            ],
            "text/markdown": [
              "\n",
              "A data.table: 15 × 3\n",
              "\n",
              "| foto_mes &lt;int&gt; | clase_ternaria &lt;chr&gt; | N &lt;int&gt; |\n",
              "|---|---|---|\n",
              "| 202101 | BAJA+1   |    622 |\n",
              "| 202101 | BAJA+2   |    825 |\n",
              "| 202101 | CONTINUA | 160080 |\n",
              "| 202102 | BAJA+1   |    831 |\n",
              "| 202102 | BAJA+2   |   1032 |\n",
              "| 202102 | CONTINUA | 160292 |\n",
              "| 202103 | BAJA+1   |   1039 |\n",
              "| 202103 | BAJA+2   |    951 |\n",
              "| 202103 | CONTINUA | 161119 |\n",
              "| 202104 | BAJA+1   |    955 |\n",
              "| 202104 | BAJA+2   |   1130 |\n",
              "| 202104 | CONTINUA | 161333 |\n",
              "| 202105 | NA       | 162783 |\n",
              "| 202105 | BAJA+1   |   1134 |\n",
              "| 202106 | NA       | 164313 |\n",
              "\n"
            ],
            "text/plain": [
              "   foto_mes clase_ternaria N     \n",
              "1  202101   BAJA+1            622\n",
              "2  202101   BAJA+2            825\n",
              "3  202101   CONTINUA       160080\n",
              "4  202102   BAJA+1            831\n",
              "5  202102   BAJA+2           1032\n",
              "6  202102   CONTINUA       160292\n",
              "7  202103   BAJA+1           1039\n",
              "8  202103   BAJA+2            951\n",
              "9  202103   CONTINUA       161119\n",
              "10 202104   BAJA+1            955\n",
              "11 202104   BAJA+2           1130\n",
              "12 202104   CONTINUA       161333\n",
              "13 202105   NA             162783\n",
              "14 202105   BAJA+1           1134\n",
              "15 202106   NA             164313"
            ]
          },
          "metadata": {},
          "output_type": "display_data"
        }
      ],
      "source": [
        "setorder( dataset, foto_mes, clase_ternaria, numero_de_cliente)\n",
        "dataset[, .N, list(foto_mes, clase_ternaria)]"
      ]
    },
    {
      "cell_type": "markdown",
      "metadata": {
        "id": "oSKhZRToy2F7"
      },
      "source": [
        "## 3. Modelo Random Forest"
      ]
    },
    {
      "cell_type": "markdown",
      "metadata": {
        "id": "eSU5vi00CPRS"
      },
      "source": [
        "Esta parte se debe correr con el runtime en lenguaje **R** Ir al menu, Runtime -> Change Runtime Type -> Runtime type -> R"
      ]
    },
    {
      "cell_type": "markdown",
      "metadata": {
        "id": "Zq8dySimCPRT"
      },
      "source": [
        "limpio el ambiente de R"
      ]
    },
    {
      "cell_type": "code",
      "execution_count": 3,
      "metadata": {
        "colab": {
          "base_uri": "https://localhost:8080/",
          "height": 129
        },
        "id": "1iE0U4_WCPRT",
        "outputId": "205113b6-d030-4a8c-e3e0-d2480ad752bb",
        "vscode": {
          "languageId": "r"
        }
      },
      "outputs": [
        {
          "data": {
            "text/html": [
              "<table class=\"dataframe\">\n",
              "<caption>A matrix: 2 × 6 of type dbl</caption>\n",
              "<thead>\n",
              "\t<tr><th></th><th scope=col>used</th><th scope=col>(Mb)</th><th scope=col>gc trigger</th><th scope=col>(Mb)</th><th scope=col>max used</th><th scope=col>(Mb)</th></tr>\n",
              "</thead>\n",
              "<tbody>\n",
              "\t<tr><th scope=row>Ncells</th><td> 724523</td><td>38.7</td><td>  1454405</td><td>  77.7</td><td>  1454405</td><td>  77.7</td></tr>\n",
              "\t<tr><th scope=row>Vcells</th><td>1419196</td><td>10.9</td><td>169515700</td><td>1293.4</td><td>211569543</td><td>1614.2</td></tr>\n",
              "</tbody>\n",
              "</table>\n"
            ],
            "text/latex": [
              "A matrix: 2 × 6 of type dbl\n",
              "\\begin{tabular}{r|llllll}\n",
              "  & used & (Mb) & gc trigger & (Mb) & max used & (Mb)\\\\\n",
              "\\hline\n",
              "\tNcells &  724523 & 38.7 &   1454405 &   77.7 &   1454405 &   77.7\\\\\n",
              "\tVcells & 1419196 & 10.9 & 169515700 & 1293.4 & 211569543 & 1614.2\\\\\n",
              "\\end{tabular}\n"
            ],
            "text/markdown": [
              "\n",
              "A matrix: 2 × 6 of type dbl\n",
              "\n",
              "| <!--/--> | used | (Mb) | gc trigger | (Mb) | max used | (Mb) |\n",
              "|---|---|---|---|---|---|---|\n",
              "| Ncells |  724523 | 38.7 |   1454405 |   77.7 |   1454405 |   77.7 |\n",
              "| Vcells | 1419196 | 10.9 | 169515700 | 1293.4 | 211569543 | 1614.2 |\n",
              "\n"
            ],
            "text/plain": [
              "       used    (Mb) gc trigger (Mb)   max used  (Mb)  \n",
              "Ncells  724523 38.7   1454405    77.7   1454405   77.7\n",
              "Vcells 1419196 10.9 169515700  1293.4 211569543 1614.2"
            ]
          },
          "metadata": {},
          "output_type": "display_data"
        }
      ],
      "source": [
        "# limpio la memoria\n",
        "rm(list=ls(all.names=TRUE)) # remove all objects\n",
        "gc(full=TRUE, verbose=FALSE) # garbage collection"
      ]
    },
    {
      "cell_type": "code",
      "execution_count": 4,
      "metadata": {
        "colab": {
          "base_uri": "https://localhost:8080/"
        },
        "id": "BJDwdD0dCPRU",
        "outputId": "ce2e189c-65b9-41e8-cf13-b923674beae3",
        "vscode": {
          "languageId": "r"
        }
      },
      "outputs": [
        {
          "name": "stderr",
          "output_type": "stream",
          "text": [
            "Loading required package: randomForest\n",
            "\n",
            "randomForest 4.7-1.2\n",
            "\n",
            "Type rfNews() to see new features/changes/bug fixes.\n",
            "\n",
            "Loading required package: R.utils\n",
            "\n",
            "Loading required package: R.oo\n",
            "\n",
            "Loading required package: R.methodsS3\n",
            "\n",
            "R.methodsS3 v1.8.2 (2022-06-13 22:00:14 UTC) successfully loaded. See ?R.methodsS3 for help.\n",
            "\n",
            "R.oo v1.27.1 (2025-05-02 21:00:05 UTC) successfully loaded. See ?R.oo for help.\n",
            "\n",
            "\n",
            "Attaching package: ‘R.oo’\n",
            "\n",
            "\n",
            "The following object is masked from ‘package:R.methodsS3’:\n",
            "\n",
            "    throw\n",
            "\n",
            "\n",
            "The following objects are masked from ‘package:methods’:\n",
            "\n",
            "    getClasses, getMethods\n",
            "\n",
            "\n",
            "The following objects are masked from ‘package:base’:\n",
            "\n",
            "    attach, detach, load, save\n",
            "\n",
            "\n",
            "R.utils v2.13.0 (2025-02-24 21:20:02 UTC) successfully loaded. See ?R.utils for help.\n",
            "\n",
            "\n",
            "Attaching package: ‘R.utils’\n",
            "\n",
            "\n",
            "The following object is masked from ‘package:utils’:\n",
            "\n",
            "    timestamp\n",
            "\n",
            "\n",
            "The following objects are masked from ‘package:base’:\n",
            "\n",
            "    cat, commandArgs, getOption, isOpen, nullfile, parse, use, warnings\n",
            "\n",
            "\n"
          ]
        }
      ],
      "source": [
        "# cargo las librerias que necesito\n",
        "require(\"data.table\")\n",
        "if(!require(\"randomForest\")) install.packages(\"randomForest\")\n",
        "require(\"randomForest\")\n",
        "\n",
        "if(!require('R.utils')) install.packages('R.utils')\n",
        "require('R.utils')"
      ]
    },
    {
      "cell_type": "code",
      "execution_count": 5,
      "metadata": {
        "id": "2KAwPQRz7FuE",
        "vscode": {
          "languageId": "r"
        }
      },
      "outputs": [],
      "source": [
        "PARAM <- list()\n",
        "PARAM$experimento <- 4329\n",
        "PARAM$semilla_primigenia <- 290497 # Aquí poner su primer semilla"
      ]
    },
    {
      "cell_type": "code",
      "execution_count": 6,
      "metadata": {
        "id": "vPRo5xY-7GB8",
        "vscode": {
          "languageId": "r"
        }
      },
      "outputs": [],
      "source": [
        "# carpeta de trabajo\n",
        "setwd(\"/content/buckets/b1/exp\")\n",
        "experimento_folder <- paste0(\"CL\", PARAM$experimento)\n",
        "dir.create(experimento_folder, showWarnings=FALSE)\n",
        "setwd( paste0(\"/content/buckets/b1/exp/\", experimento_folder ))"
      ]
    },
    {
      "cell_type": "code",
      "execution_count": 7,
      "metadata": {
        "id": "Xi0emX2ECPRV",
        "vscode": {
          "languageId": "r"
        }
      },
      "outputs": [],
      "source": [
        "# lectura del dataset\n",
        "dataset <- fread(\"/content/datasets/competencia_01.csv.gz\", stringsAsFactors= TRUE)"
      ]
    },
    {
      "cell_type": "code",
      "execution_count": 8,
      "metadata": {
        "id": "h8Anoo4Sel8S",
        "vscode": {
          "languageId": "r"
        }
      },
      "outputs": [],
      "source": [
        "# los campos que se van a utilizar\n",
        "campos_buenos <- copy(setdiff(colnames(dataset), c(\"clase_ternaria\", \"clase01\")))"
      ]
    },
    {
      "cell_type": "markdown",
      "metadata": {
        "id": "RDWZ62v9u_Fc"
      },
      "source": [
        "En primer lugar nos vamos a quedar con los clientes que se dieron de baja para poder clusterizarlos.\n",
        "\n",
        "En segundo lugar, obtendremos en el dataset_historico como fueron evolucionando las variables de estos clientes a lo largo del tiempo."
      ]
    },
    {
      "cell_type": "code",
      "execution_count": 9,
      "metadata": {
        "id": "Q_U8HDk0u_Fc",
        "vscode": {
          "languageId": "r"
        }
      },
      "outputs": [],
      "source": [
        "#me quedo con los registros que no son CONTINUA\n",
        "dataset_baja <- dataset[dataset$clase_ternaria=='BAJA+2']\n",
        "\n",
        "# me quedo con la historia de los clientes que se dieron de baja\n",
        "dataset_historico <- dataset[dataset$numero_de_cliente %in% unique(dataset_baja$numero_de_cliente)]"
      ]
    },
    {
      "cell_type": "markdown",
      "metadata": {
        "id": "UeYyyQCGu_Fd"
      },
      "source": [
        "La librería randomForest no procesa nativamente los datos faltantes para su entrenamiento, por lo que utilizaremos la función na.roughfix() para imputar los datos faltantes.\n",
        "\n",
        "OPCIONALMENTE se puede recurrir a utilizar lightgbm en su modo Random Forest, con la ventaja de que lightgbm procesa nativamente los datos faltantes. Sin embargo, para poder utilizar el algoritmo en su modo no supervisado, se debe crear una variable objetivo ficticia, a la manera en la que lo desarrolló [Leo Breiman](https://www.stat.berkeley.edu/~breiman/forests/cc_home.htm) en su artículo."
      ]
    },
    {
      "cell_type": "code",
      "execution_count": 10,
      "metadata": {
        "id": "ux_B55Uru_Fd",
        "vscode": {
          "languageId": "r"
        }
      },
      "outputs": [],
      "source": [
        "# la libreria randomForest no procesa nativamente los datos faltantes para su entrenamiento\n",
        "dataset_baja  <-  na.roughfix(dataset_baja)"
      ]
    },
    {
      "cell_type": "markdown",
      "metadata": {
        "id": "EUFD7aSqu_Fd"
      },
      "source": [
        "Ejecutamos el modelo.\n",
        "* Noten que la variable Y no es ingresada.\n",
        "* La cantidad de árboles no es un parámetro fijo. Los instamos a experimentar con él.\n",
        "* proximity si queda como hiperparámetro fijo ya que nos permite extraer la matriz de proximidades.\n",
        "* oob.prox=TRUE construye la matriz con árboles \"out of the bag\", es decir que no utilizaron esos casos para entrenar el árbol."
      ]
    },
    {
      "cell_type": "code",
      "execution_count": 11,
      "metadata": {
        "id": "PFcbF1lBu_Fd",
        "vscode": {
          "languageId": "r"
        }
      },
      "outputs": [],
      "source": [
        "set.seed(PARAM$semilla_primigenia)\n",
        "# entrenamiento del modelo\n",
        "modelo <- randomForest(dataset_baja[,..campos_buenos], y=NULL, ntree = 1000, proximity=TRUE, oob.prox = TRUE)\n",
        "\n",
        "# obtenemos la matriz de proximidades\n",
        "proximidades <- modelo$proximity\n",
        "\n",
        "# la convertimos en un amatriz de distancias\n",
        "distancias <- as.dist(1 - proximidades)\n",
        "\n",
        "# Realizar clustering utilizando las proximidades\n",
        "hclust_result <- hclust(distancias,method = \"ward.D2\")\n",
        "\n",
        "# ahora podemos generar diversas cantidades de clústers y compararlos\n",
        "for (k in 3:10){ # modificarlo a gusto, dependiendo de cuántos clústers prefieren obtener\n",
        "  clusters <- cutree(hclust_result, k = k)\n",
        "  dataset_baja[,paste0(\"labels_\",k):= clusters]\n",
        "}"
      ]
    },
    {
      "cell_type": "code",
      "execution_count": 12,
      "metadata": {
        "id": "c82EPFib4vF-",
        "vscode": {
          "languageId": "r"
        }
      },
      "outputs": [],
      "source": [
        "# guardo algunos ejemplos en un .csv\n",
        "fwrite(dataset_baja[,list(numero_de_cliente,labels_3,labels_4,labels_5)],'clusters.csv')"
      ]
    },
    {
      "cell_type": "code",
      "execution_count": 13,
      "metadata": {
        "colab": {
          "base_uri": "https://localhost:8080/",
          "height": 437
        },
        "id": "zH3B3jAiyCKD",
        "outputId": "fff84120-966f-4f7c-bda5-29fd76ee08f8",
        "vscode": {
          "languageId": "r"
        }
      },
      "outputs": [
        {
          "data": {
            "image/png": "[encoded data removed]",
            "text/plain": [
              "Plot with title “Cluster Dendrogram”"
            ]
          },
          "metadata": {
            "image/png": {
              "height": 420,
              "width": 420
            }
          },
          "output_type": "display_data"
        }
      ],
      "source": [
        "# incluso pueden visualizar el dendograma entero\n",
        "plot(hclust_result)"
      ]
    },
    {
      "cell_type": "markdown",
      "metadata": {
        "id": "nbpbZUXlu_Fe"
      },
      "source": [
        "Por último, queda utilizar el dataset histórico para evaluar cómo evolucionó cada clúster a lo largo del tiempo y seleccionar las variables más relevantes a la hora de definir cada clúster."
      ]
    }
  ],
  "metadata": {
    "colab": {
      "provenance": []
    },
    "kernelspec": {
      "display_name": "R",
      "name": "ir"
    },
    "language_info": {
      "name": "R"
    }
  },
  "nbformat": 4,
  "nbformat_minor": 0
}
